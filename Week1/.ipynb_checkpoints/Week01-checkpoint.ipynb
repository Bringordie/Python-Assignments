{
 "cells": [
  {
   "cell_type": "markdown",
   "metadata": {},
   "source": [
    "# 1) Create 5 list comprehensions to solve the following 5 problems"
   ]
  },
  {
   "cell_type": "markdown",
   "metadata": {},
   "source": [
    "a) Iterate a list of names to return a list of the names starting with H"
   ]
  },
  {
   "cell_type": "code",
   "execution_count": 1,
   "metadata": {},
   "outputs": [
    {
     "name": "stdout",
     "output_type": "stream",
     "text": [
      "['Henrik', 'helle', 'hugo']\n"
     ]
    }
   ],
   "source": [
    "name_list = [\"Jack\", \"bill\", \"Henrik\", \"helle\", \"Peter\", \"hugo\", \"Peter\", \"anderson\"]\n",
    "h_list = [element for element in name_list if element[0].upper() == \"H\"] \n",
    "#Ignore case, if case is not to be ignored, remove .upper() from element\n",
    "\n",
    "print(h_list)"
   ]
  },
  {
   "cell_type": "markdown",
   "metadata": {},
   "source": [
    "b) In one line create a list of the numbers 1-100 to the power of 3"
   ]
  },
  {
   "cell_type": "code",
   "execution_count": 2,
   "metadata": {},
   "outputs": [
    {
     "name": "stdout",
     "output_type": "stream",
     "text": [
      "[1, 8, 27, 64, 125, 216, 343, 512, 729, 1000, 1331, 1728, 2197, 2744, 3375, 4096, 4913, 5832, 6859, 8000, 9261, 10648, 12167, 13824, 15625, 17576, 19683, 21952, 24389, 27000, 29791, 32768, 35937, 39304, 42875, 46656, 50653, 54872, 59319, 64000, 68921, 74088, 79507, 85184, 91125, 97336, 103823, 110592, 117649, 125000, 132651, 140608, 148877, 157464, 166375, 175616, 185193, 195112, 205379, 216000, 226981, 238328, 250047, 262144, 274625, 287496, 300763, 314432, 328509, 343000, 357911, 373248, 389017, 405224, 421875, 438976, 456533, 474552, 493039, 512000, 531441, 551368, 571787, 592704, 614125, 636056, 658503, 681472, 704969, 729000, 753571, 778688, 804357, 830584, 857375, 884736, 912673, 941192, 970299, 1000000]\n"
     ]
    }
   ],
   "source": [
    "power_list = list(num**3 for num in range(1,101))\n",
    "# ** is the power operator\n",
    "print(power_list)"
   ]
  },
  {
   "cell_type": "markdown",
   "metadata": {},
   "source": [
    "c) Iterate a list of names to create a list of tuples where the tuples first value is the length of the name and the second is the name"
   ]
  },
  {
   "cell_type": "code",
   "execution_count": 3,
   "metadata": {},
   "outputs": [
    {
     "name": "stdout",
     "output_type": "stream",
     "text": [
      "[(4, 'Jack'), (4, 'bill'), (6, 'Henrik'), (5, 'helle'), (5, 'Peter'), (4, 'hugo'), (5, 'Peter'), (8, 'anderson')]\n"
     ]
    }
   ],
   "source": [
    "name_list = [\"Jack\", \"bill\", \"Henrik\", \"helle\", \"Peter\", \"hugo\", \"Peter\", \"anderson\"]\n",
    "length_list = list((len(name), name) for name in name_list)\n",
    "#len() gives the length of the names\n",
    "\n",
    "print(length_list)"
   ]
  },
  {
   "cell_type": "markdown",
   "metadata": {},
   "source": [
    "d) Iterate over each character in a string and get only those that are nummeric"
   ]
  },
  {
   "cell_type": "code",
   "execution_count": 4,
   "metadata": {},
   "outputs": [
    {
     "name": "stdout",
     "output_type": "stream",
     "text": [
      "['4', '3']\n"
     ]
    }
   ],
   "source": [
    "my_string = \"Power4The3People!\"\n",
    "str_numbers = [num for num in my_string if num.isnumeric()]\n",
    "\n",
    "print(str_numbers)"
   ]
  },
  {
   "cell_type": "markdown",
   "metadata": {},
   "source": [
    "e) Using only a list comprehension wrapped in set() get all possible combination from throwing 2 dice (hint use 2 for loops in a single list comprehension)"
   ]
  },
  {
   "cell_type": "code",
   "execution_count": 11,
   "metadata": {},
   "outputs": [
    {
     "name": "stdout",
     "output_type": "stream",
     "text": [
      "number of combinations: 36\n",
      "[(1, 1), (1, 2), (1, 3), (1, 4), (1, 5), (1, 6), (2, 1), (2, 2), (2, 3), (2, 4), (2, 5), (2, 6), (3, 1), (3, 2), (3, 3), (3, 4), (3, 5), (3, 6), (4, 1), (4, 2), (4, 3), (4, 4), (4, 5), (4, 6), (5, 1), (5, 2), (5, 3), (5, 4), (5, 5), (5, 6), (6, 1), (6, 2), (6, 3), (6, 4), (6, 5), (6, 6)]\n",
      "\n",
      "set of results\n",
      "{2, 3, 4, 5, 6, 7, 8, 9, 10, 11, 12}\n"
     ]
    }
   ],
   "source": [
    "dice_throws = set((dice1, dice2) for dice1 in range(1,7) for dice2 in range(1,7))\n",
    "dice_results = set(dice1+dice2 for dice1 in range(1,7) for dice2 in range(1,7))\n",
    "combinations = len(dice_throws)\n",
    "\n",
    "print(\"number of combinations: \" + str(combinations))\n",
    "print(sorted(dice_throws))\n",
    "print()\n",
    "print(\"set of results\")\n",
    "print(dice_results)"
   ]
  },
  {
   "cell_type": "markdown",
   "metadata": {},
   "source": [
    "# 2) Create 2 dictionary comprehensions to solve the following:"
   ]
  },
  {
   "cell_type": "markdown",
   "metadata": {},
   "source": [
    "a) Iterate a list of names and create a dictionary where key is the name and value is the length of the name"
   ]
  },
  {
   "cell_type": "code",
   "execution_count": 6,
   "metadata": {},
   "outputs": [
    {
     "name": "stdout",
     "output_type": "stream",
     "text": [
      "{'Jack': 4, 'bill': 4, 'Henrik': 6, 'helle': 5, 'Peter': 5, 'hugo': 4, 'anderson': 8}\n",
      "\n",
      "directory for Jack is: 4\n",
      "directory for bill is: 4\n",
      "directory for Henrik is: 6\n",
      "directory for helle is: 5\n",
      "directory for Peter is: 5\n",
      "directory for hugo is: 4\n",
      "directory for Peter is: 5\n",
      "directory for anderson is: 8\n"
     ]
    }
   ],
   "source": [
    "name_list = [\"Jack\", \"bill\", \"Henrik\", \"helle\", \"Peter\", \"hugo\", \"Peter\", \"anderson\"]\n",
    "name_dir = {name: len(name) for name in name_list}\n",
    "\n",
    "print(name_dir)\n",
    "print()\n",
    "for name in name_list:\n",
    "    print(\"directory for \" + name + \" is: \" + str(name_dir[name]))"
   ]
  },
  {
   "cell_type": "markdown",
   "metadata": {},
   "source": [
    "b) Iterate a list of numbers and create a dictionary with {key:value} being {number:squareroot_of_number}"
   ]
  },
  {
   "cell_type": "code",
   "execution_count": 10,
   "metadata": {},
   "outputs": [
    {
     "name": "stdout",
     "output_type": "stream",
     "text": [
      "{1: 1.0, 4: 2.0, 9: 3.0, 16: 4.0, 25: 5.0, 30: 5.477225575051661}\n"
     ]
    }
   ],
   "source": [
    "import math\n",
    "\n",
    "my_numbers = {1, 4, 9, 16, 25, 30}\n",
    "numbers_dir = {num: math.sqrt(num) for num in my_numbers}\n",
    "\n",
    "print(numbers_dir)"
   ]
  },
  {
   "cell_type": "markdown",
   "metadata": {},
   "source": [
    "# 3. Extra assignment"
   ]
  },
  {
   "cell_type": "markdown",
   "metadata": {},
   "source": [
    "Progammatically using loops create a small program to produce a dictionary with all the 2 dice throw combinations as keys and their likelyhood in percent as values"
   ]
  },
  {
   "cell_type": "code",
   "execution_count": 31,
   "metadata": {},
   "outputs": [
    {
     "name": "stdout",
     "output_type": "stream",
     "text": [
      "{2: 1, 3: 2, 4: 3, 5: 4, 6: 5, 7: 6, 8: 5, 9: 4, 10: 3, 11: 2, 12: 1}\n",
      "2: 2.78%\n",
      "3: 5.56%\n",
      "4: 8.33%\n",
      "5: 11.11%\n",
      "6: 13.89%\n",
      "7: 16.67%\n",
      "8: 13.89%\n",
      "9: 11.11%\n",
      "10: 8.33%\n",
      "11: 5.56%\n",
      "12: 2.78%\n"
     ]
    }
   ],
   "source": [
    "directory = {}\n",
    "total = 0\n",
    "\n",
    "for dice1 in range(1,7):\n",
    "    for dice2 in range(1,7):\n",
    "        directory.setdefault(dice1+dice2, 0)\n",
    "        directory[dice1+dice2] += 1\n",
    "        total += 1\n",
    "\n",
    "result_chances = {number: str(round(100*directory[number]/total,2))+\"%\" for number in directory}\n",
    "print(directory)\n",
    "for number in result_chances:\n",
    "    print(str(number) + \": \" + result_chances[number])"
   ]
  },
  {
   "cell_type": "code",
   "execution_count": null,
   "metadata": {},
   "outputs": [],
   "source": []
  }
 ],
 "metadata": {
  "kernelspec": {
   "display_name": "Python 3",
   "language": "python",
   "name": "python3"
  },
  "language_info": {
   "codemirror_mode": {
    "name": "ipython",
    "version": 3
   },
   "file_extension": ".py",
   "mimetype": "text/x-python",
   "name": "python",
   "nbconvert_exporter": "python",
   "pygments_lexer": "ipython3",
   "version": "3.7.6"
  }
 },
 "nbformat": 4,
 "nbformat_minor": 4
}
